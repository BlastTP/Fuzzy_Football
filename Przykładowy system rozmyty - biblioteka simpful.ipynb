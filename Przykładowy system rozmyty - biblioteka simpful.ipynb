{
 "cells": [
  {
   "cell_type": "code",
   "execution_count": null,
   "id": "initial_id",
   "metadata": {
    "collapsed": true
   },
   "outputs": [],
   "source": [
    "### Przykładowy system rozmyty przy użyciu biblioteki simpful\n",
    "from simpful import *\n",
    "\n",
    "# Utworzenie systemu rozmytego\n",
    "FS = FuzzySystem()\n",
    "# Przykładowe zmienne lingwistyczne\n",
    "# Zmienne lingwistyczne dla różnicy w liczbie bramek\n",
    "Goal_Diff_Low = FuzzySet(points=[[-5, 1], [0, 0]], term=\"low\")  # Mała różnica\n",
    "Goal_Diff_Medium = FuzzySet(points=[[0, 0], [5, 1]], term=\"medium\")  # Średnia różnica\n",
    "Goal_Diff_High = FuzzySet(points=[[5, 0], [10, 1]], term=\"high\")  # Duża różnica\n",
    "FS.add_linguistic_variable(\"Goal_Difference\", LinguisticVariable([Goal_Diff_Low, Goal_Diff_Medium, Goal_Diff_High],\n",
    "                                                                 universe_of_discourse=[-10, 10]))\n",
    "\n",
    "# Zmienne lingwistyczne dla różnicy w xG\n",
    "XG_Diff_Low = FuzzySet(points=[[-2, 1], [0, 0]], term=\"low\")  # Mała różnica\n",
    "XG_Diff_Medium = FuzzySet(points=[[0, 0], [3, 1]], term=\"medium\")  # Średnia różnica\n",
    "XG_Diff_High = FuzzySet(points=[[3, 0], [6, 1]], term=\"high\")  # Duża różnica\n",
    "FS.add_linguistic_variable(\"xG_Difference\", LinguisticVariable([XG_Diff_Low, XG_Diff_Medium, XG_Diff_High],\n",
    "                                                               universe_of_discourse=[-5, 5]))\n",
    "\n",
    "# Wynik meczu (wyjście)\n",
    "W1 = FuzzySet(points=[[0, 1], [1, 0]], term=\"loss\")  # Porażka\n",
    "W2 = FuzzySet(points=[[0.5, 0], [1.5, 1], [2.5, 0]], term=\"draw\")  # Remis\n",
    "W3 = FuzzySet(points=[[2, 0], [3, 1]], term=\"win\")  # Wygrana\n",
    "FS.add_linguistic_variable(\"Match_Result\", LinguisticVariable([W1, W2, W3], universe_of_discourse=[0, 3]))\n",
    "\n",
    "# Reguły rozmyte uwzględniające różnice między drużynami\n",
    "rules = [\n",
    "    \"IF (Goal_Difference IS low) AND (xG_Difference IS low) THEN (Match_Result IS loss)\",\n",
    "    \"IF (Goal_Difference IS medium) AND (xG_Difference IS medium) THEN (Match_Result IS draw)\",\n",
    "    \"IF (Goal_Difference IS high) OR (xG_Difference IS high) THEN (Match_Result IS win)\",\n",
    "    \"IF (Goal_Difference IS medium) AND (xG_Difference IS high) THEN (Match_Result IS win)\",\n",
    "    \"IF (Goal_Difference IS low) AND (xG_Difference IS medium) THEN (Match_Result IS draw)\"\n",
    "]\n",
    "FS.add_rules(rules)\n",
    "# Test systemu\n",
    "# Przykładowe dane wejściowe\n",
    "FS.set_variable(\"Goal_Difference\", 3)  # Różnica w bramkach na korzyść gospodarzy\n",
    "FS.set_variable(\"xG_Difference\", 1.2)  # Różnica w xG na korzyść gospodarzy\n",
    "\n",
    "# Obliczenie wartości wyjściowej\n",
    "result = FS.inference()[\"Match_Result\"]\n",
    "\n",
    "# Interpretacja wyniku\n",
    "if result < 1:\n",
    "    prediction = \"loss\"\n",
    "elif result < 2:\n",
    "    prediction = \"draw\"\n",
    "else:\n",
    "    prediction = \"win\"\n",
    "\n",
    "print(f\"Predykcja wyniku meczu: {prediction} (wartość rozmyta: {result:.2f})\")"
   ]
  }
 ],
 "metadata": {
  "kernelspec": {
   "display_name": "Python 3",
   "language": "python",
   "name": "python3"
  },
  "language_info": {
   "codemirror_mode": {
    "name": "ipython",
    "version": 2
   },
   "file_extension": ".py",
   "mimetype": "text/x-python",
   "name": "python",
   "nbconvert_exporter": "python",
   "pygments_lexer": "ipython2",
   "version": "2.7.6"
  }
 },
 "nbformat": 4,
 "nbformat_minor": 5
}
