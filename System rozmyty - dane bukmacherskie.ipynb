{
 "cells": [
  {
   "cell_type": "markdown",
   "id": "9d54463589b4424c",
   "metadata": {},
   "source": [
    "### Import bibliotek"
   ]
  },
  {
   "cell_type": "code",
   "execution_count": 296,
   "id": "c296ced5816bbf3f",
   "metadata": {
    "ExecuteTime": {
     "end_time": "2025-01-06T10:47:15.304972Z",
     "start_time": "2025-01-06T10:47:15.286989Z"
    }
   },
   "outputs": [],
   "source": [
    "import pandas as pd\n",
    "import numpy as np\n",
    "import matplotlib.pyplot as plt\n",
    "import seaborn as sns\n",
    "\n",
    "from sklearn.base import BaseEstimator\n",
    "from sklearn.metrics import accuracy_score, precision_score, recall_score, f1_score, classification_report\n",
    "\n",
    "from simpful import *"
   ]
  },
  {
   "cell_type": "markdown",
   "id": "65085033158fc6a3",
   "metadata": {},
   "source": [
    "### Lista kolumn do wykorzystania w analizie"
   ]
  },
  {
   "cell_type": "code",
   "execution_count": 297,
   "id": "initial_id",
   "metadata": {
    "ExecuteTime": {
     "end_time": "2025-01-06T10:47:15.658623Z",
     "start_time": "2025-01-06T10:47:15.648240Z"
    },
    "collapsed": true,
    "jupyter": {
     "outputs_hidden": true
    }
   },
   "outputs": [],
   "source": [
    "# Kolumny uzyskane na podstawie analizy korelacji oraz ważności cech (XGBoostClassifier)\n",
    "final_columns = [\n",
    "    'B365CH',\n",
    "    'B365CA',\n",
    "    'MaxCH',\n",
    "    'MaxCA',\n",
    "    'AvgCH',\n",
    "    'AvgCA',\n",
    "    'B365H',\n",
    "    'PSCH',\n",
    "    'PSCA',\n",
    "    'VCCH',\n",
    "    'VCCA',\n",
    "    'WHCH',\n",
    "    'WHCA',\n",
    "    'WHH',\n",
    "    'VCH',\n",
    "    'MaxH',\n",
    "    'diff_team_score_xG_sum_last_15_matches',\n",
    "    'diff_team_score_xG_sum_last_13_matches',\n",
    "    'diff_team_shots_avg_last_15_matches',\n",
    "    'diff_team_attacking_third_touches_sum_last_13_matches',\n",
    "    'diff_team_shots_on_target_avg_last_13_matches',\n",
    "    'diff_team_penalty_area_touches_avg_last_13_matches',\n",
    "    'diff_team_penalty_area_touches_avg_last_15_matches',\n",
    "    'diff_team_penalty_area_touches_sum_last_7_matches',\n",
    "    'diff_team_momentum_sum_avg_last_11_matches',\n",
    "    'diff_team_shot_creating_actions_avg_last_15_matches',\n",
    "    'diff_team_score_xG_avg_last_7_matches',\n",
    "    'diff_team_momentum_count_sum_last_9_matches'\n",
    "]"
   ]
  },
  {
   "cell_type": "markdown",
   "id": "60cdbf4bd9f6d4c7",
   "metadata": {},
   "source": [
    "### Zmienne lingwistyczne"
   ]
  },
  {
   "cell_type": "code",
   "execution_count": 298,
   "id": "c30b5125a72cdf18",
   "metadata": {
    "ExecuteTime": {
     "end_time": "2025-01-06T10:47:16.059537Z",
     "start_time": "2025-01-06T10:47:16.047697Z"
    }
   },
   "outputs": [],
   "source": [
    "# Definicja zmiennej lingwistycznej na podstawie kwantyli\n",
    "def create_linguistic_variable(data: pd.Series, percentiles: tuple[float] = (0.25, 0.5, 0.75), concept: str = \"Concept\") -> LinguisticVariable:\n",
    "    # Opis statystyczny danych\n",
    "    description = data.describe(percentiles=percentiles)\n",
    "    \n",
    "    # Uniwersum zmiennej lingwistycznej\n",
    "    universe_of_discourse = [description[\"min\"], description[\"max\"]]\n",
    "    \n",
    "    # Nazwy kwantyli\n",
    "    percentiles_names = [f\"{int(q*100)}%\" for q in percentiles]\n",
    "    \n",
    "    # Zbiory rozmyte - niski, średni, wysoki\n",
    "    LOW_TERM = FuzzySet(points=[[description[\"min\"], 1], [description[percentiles_names[0]], 1], [description[percentiles_names[1]], 0]], term=\"low\")\n",
    "    MEDIUM_TERM = FuzzySet(points=[[description[percentiles_names[0]], 0], [description[percentiles_names[1]], 1], [description[percentiles_names[2]], 0]], term=\"medium\")\n",
    "    HIGH_TERM = FuzzySet(points=[[description[percentiles_names[1]], 0], [description[percentiles_names[2]], 1], [description[\"max\"], 1]], term=\"high\")\n",
    "    \n",
    "    # Zmienna lingwistyczna\n",
    "    return LinguisticVariable([LOW_TERM, MEDIUM_TERM, HIGH_TERM], concept=concept, universe_of_discourse=universe_of_discourse)"
   ]
  },
  {
   "cell_type": "markdown",
   "id": "da35c021737066f6",
   "metadata": {},
   "source": [
    "### Klasyfikator rozmyty"
   ]
  },
  {
   "cell_type": "code",
   "execution_count": 299,
   "id": "90577b5d8d0e9685",
   "metadata": {
    "ExecuteTime": {
     "end_time": "2025-01-06T10:47:17.183620Z",
     "start_time": "2025-01-06T10:47:17.165858Z"
    }
   },
   "outputs": [],
   "source": [
    "class FuzzyClassifier(BaseEstimator):\n",
    "    def __init__(self):\n",
    "        self.model = FuzzySystem()\n",
    "        self.linguistic_variables = {}\n",
    "        self.output_linguistic_variable = None\n",
    "        \n",
    "        self._init_output_linguistic_variable()\n",
    "            \n",
    "    def init_linguistic_variables(self, X: pd.DataFrame, percentiles: tuple[float] = (0.25, 0.5, 0.75)):\n",
    "        for column in X.columns:\n",
    "            self.linguistic_variables[column] = create_linguistic_variable(X[column], percentiles=percentiles, concept=column)\n",
    "            self.model.add_linguistic_variable(column, self.linguistic_variables[column])\n",
    "        \n",
    "    def add_rules(self, rules: list[str]):\n",
    "        self.model.add_rules(rules)\n",
    "    \n",
    "    def predict(self, X: pd.DataFrame, y_true: np.array = None):\n",
    "        predictions = []\n",
    "        for _, row in X.iterrows():\n",
    "            for column, value in row.items():\n",
    "                self.model.set_variable(column, value)\n",
    "            result = self.model.inference()[\"Match_Result\"]\n",
    "            print(result, y_true[_]) if y_true is not None else None\n",
    "            \n",
    "            if result < 1:\n",
    "                predictions.append(-1)\n",
    "            elif result < 2:\n",
    "                predictions.append(0)\n",
    "            else:\n",
    "                predictions.append(1)\n",
    "        \n",
    "        return np.array(predictions)\n",
    "    \n",
    "    def calculate_metrics(self, y_true: np.array, y_pred: np.array):\n",
    "        return {\n",
    "            \"accuracy\": accuracy_score(y_true, y_pred),\n",
    "            \"precision\": precision_score(y_true, y_pred, average=\"macro\"),\n",
    "            \"recall\": recall_score(y_true, y_pred, average=\"macro\"),\n",
    "            \"f1\": f1_score(y_true, y_pred, average=\"macro\")\n",
    "        }\n",
    "    \n",
    "    def plot_classification_report(self, y_true: np.array, y_pred: np.array):\n",
    "        # Raport klasyfikacji\n",
    "        report = classification_report(y_true, y_pred, output_dict=True)\n",
    "\n",
    "        # Wizualizacja raportu w formie heatmapy\n",
    "        sns.heatmap(pd.DataFrame(report).T, annot=True, cmap=\"coolwarm\")\n",
    "        \n",
    "    def _init_output_linguistic_variable(self):\n",
    "        LOSS = FuzzySet(points=[[0, 0], [0.5, 1], [1, 0]], term=\"loss\")\n",
    "        DRAW = FuzzySet(points=[[1, 0], [1.5, 1], [2, 0]], term=\"draw\")\n",
    "        WIN = FuzzySet(points=[[2, 0], [2.5, 1], [3, 0]], term=\"win\")\n",
    "        OUTPUT_MATCH_RESULT = LinguisticVariable([LOSS, DRAW, WIN], concept=\"Match_Result\", universe_of_discourse=[0, 3])\n",
    "        \n",
    "        self.output_linguistic_variable = OUTPUT_MATCH_RESULT\n",
    "        self.model.add_linguistic_variable(\"Match_Result\", OUTPUT_MATCH_RESULT)"
   ]
  },
  {
   "cell_type": "markdown",
   "id": "159befdb185320e6",
   "metadata": {},
   "source": [
    "### Wczytanie danych"
   ]
  },
  {
   "cell_type": "code",
   "execution_count": 300,
   "id": "74b9a24e26d40e75",
   "metadata": {
    "ExecuteTime": {
     "end_time": "2025-01-06T10:47:18.352796Z",
     "start_time": "2025-01-06T10:47:18.325677Z"
    }
   },
   "outputs": [],
   "source": [
    "league = 'premier_league' # dostępne opcje: `premier_league`, `laliga`, `bundesliga`, `serie_a`\n",
    "train_data = pd.read_pickle(f'data/{league}/train_data.pkl')\n",
    "test_data = pd.read_pickle(f'data/{league}/test_data.pkl')"
   ]
  },
  {
   "cell_type": "markdown",
   "id": "8dad71293244b81c",
   "metadata": {},
   "source": [
    "### Inicjalizacja klasyfikatora rozmytego"
   ]
  },
  {
   "cell_type": "code",
   "execution_count": 301,
   "id": "1507e177dbb6edba",
   "metadata": {
    "ExecuteTime": {
     "end_time": "2025-01-06T10:47:19.067787Z",
     "start_time": "2025-01-06T10:47:19.032745Z"
    }
   },
   "outputs": [
    {
     "name": "stdout",
     "output_type": "stream",
     "text": [
      "  ____  __  _  _  ____  ____  _  _  __   \n",
      " / ___)(  )( \\/ )(  _ \\(  __)/ )( \\(  ) v2.12.0 \n",
      " \\___ \\ )( / \\/ \\ ) __/ ) _) ) \\/ (/ (_/\\ \n",
      " (____/(__)\\_)(_/(__)  (__)  \\____/\\____/\n",
      "\n",
      " https://github.com/aresio/simpful\n",
      "\n"
     ]
    }
   ],
   "source": [
    "fuzzy_classifier = FuzzyClassifier()\n",
    "fuzzy_classifier.init_linguistic_variables(train_data[final_columns])"
   ]
  },
  {
   "cell_type": "markdown",
   "id": "ccf6ae5cefb34aa",
   "metadata": {},
   "source": [
    "### Definicja reguł"
   ]
  },
  {
   "cell_type": "code",
   "execution_count": 302,
   "id": "13350e3553acb188",
   "metadata": {
    "ExecuteTime": {
     "end_time": "2025-01-06T10:47:20.424837Z",
     "start_time": "2025-01-06T10:47:20.410696Z"
    }
   },
   "outputs": [],
   "source": [
    "rules = [\n",
    "    \"IF (B365CH IS high) AND (diff_team_score_xG_sum_last_15_matches IS low) AND (diff_team_shots_avg_last_15_matches IS low) AND (diff_team_penalty_area_touches_avg_last_15_matches IS low) THEN Match_Result IS loss\",\n",
    "    \"IF (AvgCH IS high) AND (diff_team_shots_on_target_avg_last_13_matches IS low) AND (diff_team_momentum_sum_avg_last_11_matches IS low) AND (diff_team_score_xG_avg_last_7_matches IS low) THEN Match_Result IS loss\",\n",
    "    \"IF (MaxCH IS high) AND (diff_team_score_xG_sum_last_13_matches IS low) AND (diff_team_shot_creating_actions_avg_last_15_matches IS low) THEN Match_Result IS loss\",\n",
    "    \"IF (WHCH IS high) AND (diff_team_shots_on_target_avg_last_13_matches IS low) AND (diff_team_penalty_area_touches_avg_last_15_matches IS low) THEN Match_Result IS loss\",\n",
    "    \"IF (VCCH IS high) AND (diff_team_momentum_sum_avg_last_11_matches IS low) AND (diff_team_shot_creating_actions_avg_last_15_matches IS low) THEN Match_Result IS loss\",\n",
    "    \"IF (B365CA IS low) AND (diff_team_shots_on_target_avg_last_13_matches IS high) AND (diff_team_score_xG_sum_last_15_matches IS high) AND (diff_team_momentum_sum_avg_last_11_matches IS high) THEN Match_Result IS win\",\n",
    "    \"IF (PSCH IS high) AND (diff_team_shots_avg_last_15_matches IS high) AND (diff_team_penalty_area_touches_sum_last_7_matches IS high) THEN Match_Result IS win\",\n",
    "    \"IF (MaxCA IS low) AND (diff_team_score_xG_avg_last_7_matches IS high) AND (diff_team_shot_creating_actions_avg_last_15_matches IS high) THEN Match_Result IS win\",\n",
    "    \"IF (WHCA IS low) AND (diff_team_momentum_sum_avg_last_11_matches IS high) AND (diff_team_score_xG_avg_last_7_matches IS high) THEN Match_Result IS win\",\n",
    "    \"IF (VCCA IS low) AND (diff_team_shots_avg_last_15_matches IS high) AND (diff_team_shot_creating_actions_avg_last_15_matches IS high) THEN Match_Result IS win\",\n",
    "    \"IF (diff_team_score_xG_sum_last_15_matches IS low) AND (B365CH IS low) THEN Match_Result IS draw\",\n",
    "    \"IF (diff_team_shots_avg_last_15_matches IS low) AND (MaxCH IS low) THEN Match_Result IS draw\",\n",
    "    \"IF (diff_team_shots_on_target_avg_last_13_matches IS low) AND (AvgCH IS low) THEN Match_Result IS draw\",\n",
    "    \"IF (diff_team_penalty_area_touches_sum_last_7_matches IS low) AND (PSCH IS low) THEN Match_Result IS draw\",\n",
    "    \"IF (diff_team_shot_creating_actions_avg_last_15_matches IS low) AND (MaxCA IS high) THEN Match_Result IS draw\",\n",
    "    \"IF (diff_team_penalty_area_touches_avg_last_13_matches IS low) AND (VCH IS low) THEN Match_Result IS draw\",\n",
    "    \"IF (diff_team_score_xG_sum_last_13_matches IS low) AND (diff_team_penalty_area_touches_avg_last_13_matches IS low) AND (diff_team_shots_on_target_avg_last_13_matches IS low) THEN Match_Result IS loss\",\n",
    "    \"IF (B365CH IS high) AND (diff_team_score_xG_avg_last_7_matches IS low) AND (diff_team_shots_on_target_avg_last_13_matches IS low) AND (diff_team_momentum_count_sum_last_9_matches IS low) THEN Match_Result IS loss\",\n",
    "    \"IF (diff_team_penalty_area_touches_avg_last_15_matches IS low) AND (diff_team_shots_avg_last_15_matches IS low) AND (diff_team_score_xG_sum_last_13_matches IS low) THEN Match_Result IS loss\",\n",
    "    \"IF (VCH IS high) AND (diff_team_shot_creating_actions_avg_last_15_matches IS low) AND (diff_team_score_xG_avg_last_7_matches IS low) THEN Match_Result IS loss\",\n",
    "    \"IF (PSCH IS high) AND (diff_team_shots_avg_last_15_matches IS high) AND (diff_team_score_xG_sum_last_15_matches IS high) THEN Match_Result IS win\",\n",
    "    \"IF (MaxCA IS low) AND (diff_team_shots_on_target_avg_last_13_matches IS high) AND (diff_team_penalty_area_touches_sum_last_7_matches IS high) THEN Match_Result IS win\",\n",
    "    \"IF (AvgCA IS low) AND (diff_team_shot_creating_actions_avg_last_15_matches IS high) AND (diff_team_momentum_sum_avg_last_11_matches IS high) THEN Match_Result IS win\",\n",
    "    \"IF (VCCA IS low) AND (diff_team_momentum_count_sum_last_9_matches IS high) AND (diff_team_score_xG_avg_last_7_matches IS high) THEN Match_Result IS win\",\n",
    "    \"IF (VCCH IS low) AND (diff_team_shots_avg_last_15_matches IS high) AND (diff_team_penalty_area_touches_sum_last_7_matches IS high) THEN Match_Result IS win\",\n",
    "    \"IF (diff_team_shots_on_target_avg_last_13_matches IS low) AND (B365CH IS low) THEN Match_Result IS draw\",\n",
    "    \"IF (diff_team_score_xG_sum_last_15_matches IS low) AND (MaxCH IS low) THEN Match_Result IS draw\",\n",
    "    \"IF (diff_team_momentum_sum_avg_last_11_matches IS low) AND (PSCH IS low) THEN Match_Result IS draw\",\n",
    "    \"IF (diff_team_penalty_area_touches_sum_last_7_matches IS low) AND (VCH IS low) THEN Match_Result IS draw\",\n",
    "    \"IF (diff_team_shot_creating_actions_avg_last_15_matches IS low) AND (VCCA IS low) THEN Match_Result IS draw\"\n",
    "]\n",
    "\n",
    "fuzzy_classifier.add_rules(rules)"
   ]
  },
  {
   "cell_type": "code",
   "execution_count": 303,
   "id": "a2e079456c40f574",
   "metadata": {
    "ExecuteTime": {
     "end_time": "2025-01-06T10:47:39.339782Z",
     "start_time": "2025-01-06T10:47:21.499329Z"
    }
   },
   "outputs": [
    {
     "data": {
      "image/png": "[encoded data removed]",
      "text/plain": [
       "<Figure size 640x480 with 2 Axes>"
      ]
     },
     "metadata": {},
     "output_type": "display_data"
    }
   ],
   "source": [
    "fuzzy_classifier.plot_classification_report(test_data[\"match_outcome_encoded\"], fuzzy_classifier.predict(test_data[final_columns]))"
   ]
  },
  {
   "cell_type": "code",
   "execution_count": null,
   "id": "fcc107e779ea8151",
   "metadata": {},
   "outputs": [],
   "source": []
  }
 ],
 "metadata": {
  "kernelspec": {
   "display_name": "Python 3 (ipykernel)",
   "language": "python",
   "name": "python3"
  },
  "language_info": {
   "codemirror_mode": {
    "name": "ipython",
    "version": 3
   },
   "file_extension": ".py",
   "mimetype": "text/x-python",
   "name": "python",
   "nbconvert_exporter": "python",
   "pygments_lexer": "ipython3",
   "version": "3.9.2"
  }
 },
 "nbformat": 4,
 "nbformat_minor": 5
}
